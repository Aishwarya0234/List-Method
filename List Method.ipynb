{
 "cells": [
  {
   "cell_type": "code",
   "execution_count": 1,
   "id": "038547d6-ef21-4b4d-a5b9-0d41f60d1675",
   "metadata": {},
   "outputs": [
    {
     "name": "stdout",
     "output_type": "stream",
     "text": [
      "[1, 2, 3, 4, 5, 'hi']\n"
     ]
    }
   ],
   "source": [
    "#list\n",
    "list=[1,2,3,4,5,'hi']\n",
    "print(list)"
   ]
  },
  {
   "cell_type": "code",
   "execution_count": 2,
   "id": "95faf217-3003-455b-9238-355e2876bd74",
   "metadata": {},
   "outputs": [
    {
     "name": "stdout",
     "output_type": "stream",
     "text": [
      "[1, 2, 3, 4, 5, 'hi', 5]\n"
     ]
    }
   ],
   "source": [
    "#append()\n",
    "list.append(5)\n",
    "print(list)"
   ]
  },
  {
   "cell_type": "code",
   "execution_count": 3,
   "id": "ddc547f2-7ad1-4035-ac6a-9637c925e883",
   "metadata": {},
   "outputs": [
    {
     "name": "stdout",
     "output_type": "stream",
     "text": [
      "[1, 2, 3, 4, 5, 'hi', 'good', 5]\n"
     ]
    }
   ],
   "source": [
    "#insert()\n",
    "list.insert(6,'good')\n",
    "print(list)"
   ]
  },
  {
   "cell_type": "code",
   "execution_count": 4,
   "id": "3b50e1cd-614a-4476-9222-bd54c1ff52bf",
   "metadata": {},
   "outputs": [
    {
     "data": {
      "text/plain": [
       "4"
      ]
     },
     "execution_count": 4,
     "metadata": {},
     "output_type": "execute_result"
    }
   ],
   "source": [
    "#index()\n",
    "list.index(5)"
   ]
  },
  {
   "cell_type": "code",
   "execution_count": 5,
   "id": "c5269eec-b2cc-41c8-8e20-aa67e9ed6b82",
   "metadata": {},
   "outputs": [],
   "source": [
    "#remove()\n",
    "list.remove('hi')"
   ]
  },
  {
   "cell_type": "code",
   "execution_count": 6,
   "id": "685f13db-0dd8-4b76-86d5-7a2f73620ca8",
   "metadata": {},
   "outputs": [
    {
     "name": "stdout",
     "output_type": "stream",
     "text": [
      "[1, 2, 3, 4, 5, 'good', 5]\n"
     ]
    }
   ],
   "source": [
    "print(list)"
   ]
  },
  {
   "cell_type": "code",
   "execution_count": 7,
   "id": "40c75d23-b48c-4d80-b367-cf3d18662232",
   "metadata": {},
   "outputs": [
    {
     "data": {
      "text/plain": [
       "3"
      ]
     },
     "execution_count": 7,
     "metadata": {},
     "output_type": "execute_result"
    }
   ],
   "source": [
    "#pop()\n",
    "list.pop(2)"
   ]
  },
  {
   "cell_type": "code",
   "execution_count": 8,
   "id": "b2234d0f-84b7-4b26-87f7-077c525590ae",
   "metadata": {},
   "outputs": [
    {
     "name": "stdout",
     "output_type": "stream",
     "text": [
      "[1, 2, 4, 5, 'good', 5]\n"
     ]
    }
   ],
   "source": [
    "print(list)"
   ]
  },
  {
   "cell_type": "code",
   "execution_count": 9,
   "id": "d1516c82-3a44-4936-a628-b3db9e94c181",
   "metadata": {},
   "outputs": [],
   "source": [
    "#indexing in list\n",
    "list = [4,5,6,7, 'hi']"
   ]
  },
  {
   "cell_type": "code",
   "execution_count": 10,
   "id": "2cd9d506-b4df-4331-9844-9e6a9533c025",
   "metadata": {},
   "outputs": [
    {
     "data": {
      "text/plain": [
       "2"
      ]
     },
     "execution_count": 10,
     "metadata": {},
     "output_type": "execute_result"
    }
   ],
   "source": [
    "list.index(6)"
   ]
  },
  {
   "cell_type": "code",
   "execution_count": 11,
   "id": "c39d742a-2413-40c6-8eab-6e92a7567823",
   "metadata": {},
   "outputs": [
    {
     "data": {
      "text/plain": [
       "6"
      ]
     },
     "execution_count": 11,
     "metadata": {},
     "output_type": "execute_result"
    }
   ],
   "source": [
    "list[2]"
   ]
  },
  {
   "cell_type": "code",
   "execution_count": 12,
   "id": "dadeafbe-0779-41c7-87f4-a01e4205c41e",
   "metadata": {},
   "outputs": [
    {
     "data": {
      "text/plain": [
       "'hi'"
      ]
     },
     "execution_count": 12,
     "metadata": {},
     "output_type": "execute_result"
    }
   ],
   "source": [
    "list[4]"
   ]
  },
  {
   "cell_type": "code",
   "execution_count": 13,
   "id": "6c138b58-d3e8-418f-9855-251f026a92b5",
   "metadata": {},
   "outputs": [
    {
     "data": {
      "text/plain": [
       "[]"
      ]
     },
     "execution_count": 13,
     "metadata": {},
     "output_type": "execute_result"
    }
   ],
   "source": [
    "list[2:2]"
   ]
  },
  {
   "cell_type": "code",
   "execution_count": 14,
   "id": "a48bfb9d-6a7a-4556-a48d-bab25536921a",
   "metadata": {},
   "outputs": [
    {
     "data": {
      "text/plain": [
       "[6, 7]"
      ]
     },
     "execution_count": 14,
     "metadata": {},
     "output_type": "execute_result"
    }
   ],
   "source": [
    "list[2:4]"
   ]
  },
  {
   "cell_type": "code",
   "execution_count": 15,
   "id": "1bebf455-5097-4fd5-a68f-e8e5c80f17f1",
   "metadata": {},
   "outputs": [
    {
     "name": "stdout",
     "output_type": "stream",
     "text": [
      "['apple', 'banana', 'cherry', 'mango']\n"
     ]
    }
   ],
   "source": [
    "#copy\n",
    "list = ['apple','banana','cherry','mango']\n",
    "list.copy\n",
    "print(list)"
   ]
  },
  {
   "cell_type": "code",
   "execution_count": 16,
   "id": "0a5a03b1-3875-4de7-9e08-d0b0f475f705",
   "metadata": {},
   "outputs": [
    {
     "name": "stdout",
     "output_type": "stream",
     "text": [
      "[7, 8, 9]\n"
     ]
    }
   ],
   "source": [
    "#sort\n",
    "list = [9,8,7]\n",
    "list.sort()\n",
    "print(list)"
   ]
  },
  {
   "cell_type": "code",
   "execution_count": 23,
   "id": "ea5a541c-86f0-4932-a43d-21dc67168cdc",
   "metadata": {},
   "outputs": [
    {
     "name": "stdout",
     "output_type": "stream",
     "text": [
      "[]\n"
     ]
    }
   ],
   "source": [
    "x = [3,4,5,7,6,8,4]\n",
    "x.clear()\n",
    "print(x)"
   ]
  },
  {
   "cell_type": "code",
   "execution_count": 1,
   "id": "1e6c3032-854d-4b38-876d-68b6c807ed8a",
   "metadata": {},
   "outputs": [
    {
     "name": "stdout",
     "output_type": "stream",
     "text": [
      "[1, 2, 3, 4, 'good', 5]\n"
     ]
    }
   ],
   "source": [
    "#extend\n",
    "x = [1,2,3,4]\n",
    "x.extend(['good' , 5])\n",
    "print(x)\n"
   ]
  },
  {
   "cell_type": "code",
   "execution_count": 2,
   "id": "5b0697d3-3da8-44e7-9ac6-b8424cd58d1d",
   "metadata": {},
   "outputs": [
    {
     "data": {
      "text/plain": [
       "1"
      ]
     },
     "execution_count": 2,
     "metadata": {},
     "output_type": "execute_result"
    }
   ],
   "source": [
    "#count\n",
    "x.count(2)"
   ]
  },
  {
   "cell_type": "code",
   "execution_count": null,
   "id": "879116d3-9500-479f-9f9d-581abc92d8cc",
   "metadata": {},
   "outputs": [],
   "source": []
  }
 ],
 "metadata": {
  "kernelspec": {
   "display_name": "Python 3 (ipykernel)",
   "language": "python",
   "name": "python3"
  },
  "language_info": {
   "codemirror_mode": {
    "name": "ipython",
    "version": 3
   },
   "file_extension": ".py",
   "mimetype": "text/x-python",
   "name": "python",
   "nbconvert_exporter": "python",
   "pygments_lexer": "ipython3",
   "version": "3.11.7"
  }
 },
 "nbformat": 4,
 "nbformat_minor": 5
}
